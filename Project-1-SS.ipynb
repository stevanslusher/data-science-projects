{
  "cells": [
    {
      "cell_type": "markdown",
      "source": [
        "<img src=\"http://imgur.com/1ZcRyrc.png\" style=\"float: left; margin: 20px; height: 55px\">\n",
        "\n",
        "# Project 1: Python Coding Exercises\n",
        "\n",
        "_Authors: Joseph Nelson (DC) _\n",
        "\n---"
      ],
      "metadata": {}
    },
    {
      "cell_type": "markdown",
      "source": [
        "The following code challenges are drawn from common exercises used in technical interviews.\n",
        "\nNote there may be several ways to approach each challenge!"
      ],
      "metadata": {}
    },
    {
      "cell_type": "markdown",
      "source": [
        "### Challenge 1.1: Largest Palindrome\n",
        "A palindromic number reads the same both ways. For example, 1234321 is a palindrome. The largest palindrome made from the product of two 2-digit numbers is 9009 = 91 × 99. Find the largest palindrome made from the product of two 3-digit numbers."
      ],
      "metadata": {}
    },
    {
      "cell_type": "code",
      "source": [
        "def pdrome(num):\n",
        "    return str(num) == str(num)[::-1]\n",
        "def largest(bottom, top):\n",
        "    z = 0\n",
        "    for x in range(top, bottom, -1):\n",
        "        for y in range(top,bottom, -1):\n",
        "            if pdrome(x*y):\n",
        "                if x*y > z:\n",
        "                    z = x*y\n",
        "    return z\n",
        "print largest(99,999)"
      ],
      "outputs": [
        {
          "output_type": "stream",
          "name": "stdout",
          "text": [
            "906609\n"
          ]
        }
      ],
      "execution_count": 40,
      "metadata": {
        "collapsed": true
      }
    },
    {
      "cell_type": "markdown",
      "source": [
        "\n",
        "### Challenge 1.2: Summation of primes\n",
        "The sum of the primes below 10 is 2 + 3 + 5 + 7 = 17. Find the sum of all the primes below two-thousand."
      ],
      "metadata": {}
    },
    {
      "cell_type": "code",
      "source": [
        " \n",
        "from math import sqrt #https://docs.python.org/2/library/math.html\n",
        "def primenumber(n):\n",
        "\tif n==1: return False\n",
        "\tif n<4: return True\n",
        "\tif n%2==0: return False\n",
        "\tif n<9: return True\n",
        "\tif n%3==0: return False\n",
        "\tr=int(sqrt(n))\n",
        "\tf=5\n",
        "\twhile f<=r:\n",
        "\t\tif n%f==0: return False\n",
        "\t\tif n%(f+2)==0: return False\n",
        "\t\tf+=6\n",
        "\treturn True\n",
        "i=2\n",
        "s=0\n",
        "while i<2000:\n",
        "\ts+=primenumber(i)*i\n",
        "\ti+=1\n",
        "print s"
      ],
      "outputs": [
        {
          "output_type": "stream",
          "name": "stdout",
          "text": [
            "277050\n"
          ]
        }
      ],
      "execution_count": 42,
      "metadata": {
        "collapsed": true
      }
    },
    {
      "cell_type": "markdown",
      "source": [
        "### Challenge 1.3: Multiples of 3 and 5\n",
        "If we list all the natural numbers below 10 that are multiples of 3 or 5, we get 3, 5, 6 and 9. The sum of these multiples is 23. Find the sum of all the multiples of 3 or 5 below 1000."
      ],
      "metadata": {}
    },
    {
      "cell_type": "code",
      "source": [
        "i=1\n",
        "s=0\n",
        "while i<1000:\n",
        "\ts+=i*(i%3==0 or i%5==0)\n",
        "\ti+=1\n",
        "\nprint s"
      ],
      "outputs": [
        {
          "output_type": "stream",
          "name": "stdout",
          "text": [
            "233168\n"
          ]
        }
      ],
      "execution_count": 14,
      "metadata": {
        "collapsed": true
      }
    },
    {
      "cell_type": "markdown",
      "source": [
        "### Challenge 2: Fizz Buzz\n",
        "Write a program that prints all the numbers from 1 to 100. For multiples of 3, instead of the number, print \"Fizz\", for multiples of 5 print \"Buzz\". For numbers which are multiples of both 3 and 5, print \"FizzBuzz\". Bonus: If that's too easy, create three unique solutions. Sometimes you'll encounter unexpected constraints, so make sure you're able to think creatively!"
      ],
      "metadata": {}
    },
    {
      "cell_type": "code",
      "source": [
        "for i in range(1,101):\n",
        "    if (i % 5==0) and (i % 3==0):\n",
        "        print 'fizzbuzz'\n",
        "    elif i % 3 == 0:\n",
        "        print 'fizz'\n",
        "    \n",
        "    elif i % 5 == 0: \n",
        "        print 'buzz'\n",
        "    else:\n",
        "        print i"
      ],
      "outputs": [
        {
          "output_type": "stream",
          "name": "stdout",
          "text": [
            "1\n",
            "2\n",
            "fizz\n",
            "4\n",
            "buzz\n",
            "fizz\n",
            "7\n",
            "8\n",
            "fizz\n",
            "buzz\n",
            "11\n",
            "fizz\n",
            "13\n",
            "14\n",
            "fizzbuzz\n",
            "16\n",
            "17\n",
            "fizz\n",
            "19\n",
            "buzz\n",
            "fizz\n",
            "22\n",
            "23\n",
            "fizz\n",
            "buzz\n",
            "26\n",
            "fizz\n",
            "28\n",
            "29\n",
            "fizzbuzz\n",
            "31\n",
            "32\n",
            "fizz\n",
            "34\n",
            "buzz\n",
            "fizz\n",
            "37\n",
            "38\n",
            "fizz\n",
            "buzz\n",
            "41\n",
            "fizz\n",
            "43\n",
            "44\n",
            "fizzbuzz\n",
            "46\n",
            "47\n",
            "fizz\n",
            "49\n",
            "buzz\n",
            "fizz\n",
            "52\n",
            "53\n",
            "fizz\n",
            "buzz\n",
            "56\n",
            "fizz\n",
            "58\n",
            "59\n",
            "fizzbuzz\n",
            "61\n",
            "62\n",
            "fizz\n",
            "64\n",
            "buzz\n",
            "fizz\n",
            "67\n",
            "68\n",
            "fizz\n",
            "buzz\n",
            "71\n",
            "fizz\n",
            "73\n",
            "74\n",
            "fizzbuzz\n",
            "76\n",
            "77\n",
            "fizz\n",
            "79\n",
            "buzz\n",
            "fizz\n",
            "82\n",
            "83\n",
            "fizz\n",
            "buzz\n",
            "86\n",
            "fizz\n",
            "88\n",
            "89\n",
            "fizzbuzz\n",
            "91\n",
            "92\n",
            "fizz\n",
            "94\n",
            "buzz\n",
            "fizz\n",
            "97\n",
            "98\n",
            "fizz\n",
            "buzz\n"
          ]
        }
      ],
      "execution_count": 16,
      "metadata": {
        "collapsed": true
      }
    },
    {
      "cell_type": "markdown",
      "source": [
        "### Challenge 3: String Compressor\n",
        "Implement a method to perform basic string compression using the counts of repeated characters. (This is called Run-Length Encoding.) For example, the string 'aabcccccaaa' would become a2b1c5a3. If the “compressed” string would not become smaller than the original string, your method should return the original string. You can assume the string has only uppercase and lowercase letters (a-z). Specify whether your solution is case-sensitive or case-insensitive, and what you would need to change to make it the other."
      ],
      "metadata": {}
    },
    {
      "cell_type": "code",
      "source": [
        "def string_compression(input_str):\n",
        "\tcomp_str = \"\"\n",
        "\n",
        "\tcount = 1\n",
        "\tfor i in range(len(input_str)-1):\n",
        "\t\tif input_str[i] == input_str[i+1]:\n",
        "\t\t\tcount += 1\n",
        "\t\telse:\n",
        "\t\t\tcomp_str += input_str[i] + str(count)\n",
        "\t\t\tcount = 1\n",
        "\tcomp_str += input_str[i] + str(count)\n",
        "\n",
        "\tif len(comp_str) >= len(input_str):\n",
        "\t\treturn input_str\n",
        "\telse:\n",
        "\t\treturn comp_str\n",
        "    \n",
        "#test for compressed & not compressed:    \n",
        "print string_compression(\"aabcccccaaa\") #compressed\n",
        "print string_compression(\";lakjf;lasdkjfa;lksdf\") #not compressed"
      ],
      "outputs": [
        {
          "output_type": "stream",
          "name": "stdout",
          "text": [
            "a2b1c5a3\n",
            ";lakjf;lasdkjfa;lksdf\n"
          ]
        }
      ],
      "execution_count": 38,
      "metadata": {
        "collapsed": true
      }
    },
    {
      "cell_type": "code",
      "source": [],
      "outputs": [],
      "execution_count": null,
      "metadata": {
        "collapsed": false,
        "outputHidden": false,
        "inputHidden": false
      }
    }
  ],
  "metadata": {
    "anaconda-cloud": {},
    "kernelspec": {
      "name": "python2",
      "language": "python",
      "display_name": "Python 2"
    },
    "language_info": {
      "mimetype": "text/x-python",
      "nbconvert_exporter": "python",
      "name": "python",
      "pygments_lexer": "ipython2",
      "version": "2.7.14",
      "file_extension": ".py",
      "codemirror_mode": {
        "version": 2,
        "name": "ipython"
      }
    },
    "kernel_info": {
      "name": "python2"
    },
    "nteract": {
      "version": "0.4.3"
    }
  },
  "nbformat": 4,
  "nbformat_minor": 2
}