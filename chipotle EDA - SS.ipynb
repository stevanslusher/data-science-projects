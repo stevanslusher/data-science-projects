{
  "cells": [
    {
      "cell_type": "markdown",
      "source": [
        "<img src=\"http://imgur.com/1ZcRyrc.png\" style=\"float: left; margin: 20px; height: 55px\">\n",
        "\n",
        "# Project 2: Analyzing Chipotle Data\n",
        "\n",
        "_Author: Joseph Nelson (DC)_\n",
        "\n---"
      ],
      "metadata": {}
    },
    {
      "cell_type": "markdown",
      "source": [
        "https://github.com/TheUpshot/chipotle\n",
        "\n",
        "For project two, you will complete a series of exercises exploring [order data from Chipotle](https://github.com/TheUpshot/chipotle), compliments of The New York Times's \"The Upshot.\"\n",
        "\nFor these exercises, you are conducting basic exploratory data analysis (Pandas not required) to understand the basics of Chipotle's order data: how many orders are being made, what is the average price per order, how many different ingredients, etc. These allow you to conduct business analyst skills while becoming comfortable with Python."
      ],
      "metadata": {}
    },
    {
      "cell_type": "markdown",
      "source": [
        "---\n",
        "\n## Basic Level"
      ],
      "metadata": {}
    },
    {
      "cell_type": "markdown",
      "source": [
        "### Part 1: Read in the file with `csv.reader()` and store it in an object called `file_nested_list`.\n",
        "\n",
        "Hint: This is a TSV (tab-separated value) file, and `csv.reader()` needs to be told how to handle it.\n",
        "      https://docs.python.org/2/library/csv.html"
      ],
      "metadata": {}
    },
    {
      "cell_type": "code",
      "source": [
        "import csv"
      ],
      "outputs": [],
      "execution_count": 1,
      "metadata": {
        "collapsed": true
      }
    },
    {
      "cell_type": "code",
      "source": [
        "with open('chipotle.tsv', mode='rU') as f:\n",
        "    file_nested_list = [row for row in csv.reader(f, delimiter='\\t')]"
      ],
      "outputs": [],
      "execution_count": 4,
      "metadata": {
        "collapsed": true
      }
    },
    {
      "cell_type": "markdown",
      "source": [
        "### Part 2: Separate `file_nested_list` into the `header` and the `data`.\n"
      ],
      "metadata": {}
    },
    {
      "cell_type": "code",
      "source": [
        "header = file_nested_list[0]\n"
      ],
      "outputs": [],
      "execution_count": 5,
      "metadata": {
        "collapsed": true
      }
    },
    {
      "cell_type": "code",
      "source": [
        "data = file_nested_list[1:]"
      ],
      "outputs": [],
      "execution_count": 6,
      "metadata": {
        "collapsed": true
      }
    },
    {
      "cell_type": "markdown",
      "source": [
        "---\n",
        "\n## Intermediate Level"
      ],
      "metadata": {}
    },
    {
      "cell_type": "markdown",
      "source": [
        "### Part 3: Calculate the average price of an order.\n",
        "\n",
        "Hint: Examine the data to see if the `quantity` column is relevant to this calculation.\n",
        "\nHint: Think carefully about the simplest way to do this!"
      ],
      "metadata": {}
    },
    {
      "cell_type": "code",
      "source": [
        "num_orders = len(set([row[0] for row in data])) \n",
        "#num_orders"
      ],
      "outputs": [],
      "execution_count": 9,
      "metadata": {
        "collapsed": true
      }
    },
    {
      "cell_type": "code",
      "source": [
        "prices = [float(row[4][1:-1]) for row in data]\n",
        "#prices"
      ],
      "outputs": [],
      "execution_count": 14,
      "metadata": {
        "collapsed": true
      }
    },
    {
      "cell_type": "code",
      "source": [
        "ave_price_per_order = sum(prices)/num_orders\n",
        "ave_price_per_order"
      ],
      "outputs": [
        {
          "output_type": "execute_result",
          "execution_count": 18,
          "data": {
            "text/plain": [
              "18.811428571428824"
            ]
          },
          "metadata": {}
        }
      ],
      "execution_count": 18,
      "metadata": {
        "collapsed": true
      }
    },
    {
      "cell_type": "code",
      "source": [
        "round(ave_price_per_order,2)"
      ],
      "outputs": [
        {
          "output_type": "execute_result",
          "execution_count": 17,
          "data": {
            "text/plain": [
              "18.81"
            ]
          },
          "metadata": {}
        }
      ],
      "execution_count": 17,
      "metadata": {
        "collapsed": true
      }
    },
    {
      "cell_type": "markdown",
      "source": [
        "### Part 4: Create a list (or set) named `unique_sodas` containing all unique sodas and soft drinks that they sell.\n",
        "\nNote: Just look for 'Canned Soda' and 'Canned Soft Drink', and ignore other drinks like 'Izze'."
      ],
      "metadata": {}
    },
    {
      "cell_type": "code",
      "source": [
        "# if 'item_name' includes 'Canned' --> append 'choice_description' to 'sodas' list\n",
        "sodas = []\n",
        "for row in data:\n",
        "    if 'Canned' in row[2]:\n",
        "        sodas.append(row[3][1:-1])"
      ],
      "outputs": [],
      "execution_count": 19,
      "metadata": {
        "collapsed": true
      }
    },
    {
      "cell_type": "code",
      "source": [
        "sodas = [row[3][1:-1] for row in data if 'Canned' in row[2]]\n",
        "#sodas "
      ],
      "outputs": [],
      "execution_count": 41,
      "metadata": {
        "collapsed": true
      }
    },
    {
      "cell_type": "code",
      "source": [
        "unique_sodas = set(sodas) #set of unique sodas"
      ],
      "outputs": [],
      "execution_count": 23,
      "metadata": {
        "collapsed": true
      }
    },
    {
      "cell_type": "code",
      "source": [
        "unique_sodas"
      ],
      "outputs": [
        {
          "output_type": "execute_result",
          "execution_count": 24,
          "data": {
            "text/plain": [
              "{'Coca Cola',\n",
              " 'Coke',\n",
              " 'Diet Coke',\n",
              " 'Diet Dr. Pepper',\n",
              " 'Dr. Pepper',\n",
              " 'Lemonade',\n",
              " 'Mountain Dew',\n",
              " 'Nestea',\n",
              " 'Sprite'}"
            ]
          },
          "metadata": {}
        }
      ],
      "execution_count": 24,
      "metadata": {
        "collapsed": true
      }
    },
    {
      "cell_type": "markdown",
      "source": [
        "---\n",
        "\n",
        "## Advanced Level\n"
      ],
      "metadata": {}
    },
    {
      "cell_type": "markdown",
      "source": [
        "### Part 5: Calculate the average number of toppings per burrito.\n",
        "\n",
        "Note: Let's ignore the `quantity` column to simplify this task.\n",
        "\n",
        "Hint: Think carefully about the easiest way to count the number of toppings!\n"
      ],
      "metadata": {}
    },
    {
      "cell_type": "code",
      "source": [
        "burrito_count = 0 #running total of burritos\n",
        "topping_count = 0 #running total of toppings\n",
        "\n",
        "for row in data: #Count commas and add 1\n",
        "    if 'Burrito' in row[2]:\n",
        "        burrito_count += 1\n",
        "        topping_count += (row[3].count(',') + 1)"
      ],
      "outputs": [],
      "execution_count": 25,
      "metadata": {
        "collapsed": true
      }
    },
    {
      "cell_type": "code",
      "source": [
        "ave_topping_count = round(topping_count/float(burrito_count),3)\n",
        "ave_topping_count #Average toppings per burrito"
      ],
      "outputs": [
        {
          "output_type": "execute_result",
          "execution_count": 34,
          "data": {
            "text/plain": [
              "5.395"
            ]
          },
          "metadata": {}
        }
      ],
      "execution_count": 34,
      "metadata": {
        "collapsed": true
      }
    },
    {
      "cell_type": "code",
      "source": [],
      "outputs": [],
      "execution_count": null,
      "metadata": {
        "collapsed": true
      }
    },
    {
      "cell_type": "markdown",
      "source": [
        "### Part 6: Create a dictionary. Let the keys represent chip orders and the values represent the total number of orders.\n",
        "\n",
        "Expected output: `{'Chips and Roasted Chili-Corn Salsa': 18, ... }`\n",
        "\n",
        "Note: Please take the `quantity` column into account!\n",
        "\nOptional: Learn how to use `defaultdict` to simplify your code."
      ],
      "metadata": {}
    },
    {
      "cell_type": "code",
      "source": [
        "chips = {} #empty dictionary"
      ],
      "outputs": [],
      "execution_count": 51,
      "metadata": {
        "collapsed": true
      }
    },
    {
      "cell_type": "code",
      "source": [
        "for row in data: #\n",
        "    if 'Chips' in row[2]:\n",
        "       #if chip order is not in dictionary --> add new key/value pair\n",
        "        if row[2] not in chips: \n",
        "            chips[row[2]] = int(row[1]) #new key --> create key  \n",
        "       #if chip order is already in dictionary --> update key value      \n",
        "        else:\n",
        "            chips[row[2]] += int(row[1]) #existing key --> add to value "
      ],
      "outputs": [],
      "execution_count": 56,
      "metadata": {
        "collapsed": true
      }
    },
    {
      "cell_type": "code",
      "source": [],
      "outputs": [],
      "execution_count": 48,
      "metadata": {
        "collapsed": true
      }
    },
    {
      "cell_type": "code",
      "source": [
        "chips #doesn't exactly match up but I spent wayyy to much time on this"
      ],
      "outputs": [
        {
          "output_type": "execute_result",
          "execution_count": 57,
          "data": {
            "text/plain": [
              "{'Chips': 230,\n",
              " 'Chips and Fresh Tomato Salsa': 130,\n",
              " 'Chips and Guacamole': 506,\n",
              " 'Chips and Mild Fresh Tomato Salsa': 1,\n",
              " 'Chips and Roasted Chili Corn Salsa': 23,\n",
              " 'Chips and Roasted Chili-Corn Salsa': 18,\n",
              " 'Chips and Tomatillo Green Chili Salsa': 45,\n",
              " 'Chips and Tomatillo Red Chili Salsa': 50,\n",
              " 'Chips and Tomatillo-Green Chili Salsa': 33,\n",
              " 'Chips and Tomatillo-Red Chili Salsa': 25,\n",
              " 'Side of Chips': 110}"
            ]
          },
          "metadata": {}
        }
      ],
      "execution_count": 57,
      "metadata": {
        "collapsed": true
      }
    },
    {
      "cell_type": "code",
      "source": [],
      "outputs": [],
      "execution_count": null,
      "metadata": {
        "collapsed": true
      }
    },
    {
      "cell_type": "markdown",
      "source": [
        "---\n",
        "\n",
        "## Bonus: Craft a problem statement about this data that interests you, and then answer it!\n"
      ],
      "metadata": {}
    },
    {
      "cell_type": "code",
      "source": [],
      "outputs": [],
      "execution_count": null,
      "metadata": {
        "collapsed": true
      }
    },
    {
      "cell_type": "code",
      "source": [],
      "outputs": [],
      "execution_count": null,
      "metadata": {
        "collapsed": true
      }
    },
    {
      "cell_type": "code",
      "source": [],
      "outputs": [],
      "execution_count": null,
      "metadata": {
        "collapsed": true
      }
    },
    {
      "cell_type": "code",
      "source": [],
      "outputs": [],
      "execution_count": null,
      "metadata": {
        "collapsed": true
      }
    }
  ],
  "metadata": {
    "anaconda-cloud": {},
    "kernelspec": {
      "name": "python2",
      "language": "python",
      "display_name": "Python 2"
    },
    "language_info": {
      "mimetype": "text/x-python",
      "nbconvert_exporter": "python",
      "name": "python",
      "pygments_lexer": "ipython2",
      "version": "2.7.14",
      "file_extension": ".py",
      "codemirror_mode": {
        "version": 2,
        "name": "ipython"
      }
    },
    "kernel_info": {
      "name": "python2"
    },
    "nteract": {
      "version": "0.4.3"
    }
  },
  "nbformat": 4,
  "nbformat_minor": 2
}